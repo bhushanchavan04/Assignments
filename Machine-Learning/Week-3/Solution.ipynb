{
 "cells": [
  {
   "cell_type": "markdown",
   "metadata": {},
   "source": [
    "# Week-3 Solution\n",
    "\n",
    "1. Import Libraries"
   ]
  },
  {
   "cell_type": "code",
   "execution_count": 1,
   "metadata": {},
   "outputs": [],
   "source": [
    "import numpy as np\n",
    "from sklearn.experimental import enable_iterative_imputer\n",
    "from sklearn.impute import IterativeImputer"
   ]
  },
  {
   "cell_type": "markdown",
   "metadata": {},
   "source": [
    "2. The Dataset"
   ]
  },
  {
   "cell_type": "code",
   "execution_count": 2,
   "metadata": {},
   "outputs": [],
   "source": [
    "# Given dataset\n",
    "X = [\n",
    "    [70.1, 154.9, 29.215, 2],\n",
    "    [64.9, 157.8, np.NaN, 2],\n",
    "    [np.NaN, 164.7, 24.73633318, 1],\n",
    "    [67.5, 169.9, 23.38390377, 1],\n",
    "    [68.4, 154.9, 28.5071149, np.NaN],\n",
    "    [77.7, 173.8, 25.72299152, 2]\n",
    "]"
   ]
  },
  {
   "cell_type": "markdown",
   "metadata": {},
   "source": [
    "3. Initialize Missing Values"
   ]
  },
  {
   "cell_type": "code",
   "execution_count": 3,
   "metadata": {},
   "outputs": [],
   "source": [
    "def initialize_missing_values(X):\n",
    "    for j in range(len(X[0])):\n",
    "        col_values = [X[i][j] for i in range(len(X)) if not np.isnan(X[i][j])]\n",
    "        mean_value = sum(col_values) / len(col_values)\n",
    "        for i in range(len(X)):\n",
    "            if np.isnan(X[i][j]):\n",
    "                X[i][j] = mean_value\n",
    "    return X"
   ]
  },
  {
   "cell_type": "markdown",
   "metadata": {},
   "source": [
    "4. Predict Missing Values"
   ]
  },
  {
   "cell_type": "code",
   "execution_count": 4,
   "metadata": {},
   "outputs": [],
   "source": [
    "def linear_regression_predict(X, target_index, feature_indices):\n",
    "    X_train = []\n",
    "    y_train = []\n",
    "    \n",
    "    # Prepare training data\n",
    "    for i in range(len(X)):\n",
    "        if not np.isnan(X[i][target_index]):\n",
    "            y_train.append(X[i][target_index])\n",
    "            X_train.append([X[i][j] for j in feature_indices])\n",
    "    \n",
    "    # Calculate weights (coefficients) for linear regression\n",
    "    X_train = np.array(X_train)\n",
    "    y_train = np.array(y_train)\n",
    "    \n",
    "    X_transpose = np.transpose(X_train)\n",
    "    X_transpose_X = np.dot(X_transpose, X_train)\n",
    "    X_transpose_y = np.dot(X_transpose, y_train)\n",
    "    \n",
    "    # Weight vector w = (X^T * X)^-1 * X^T * y\n",
    "    w = np.linalg.solve(X_transpose_X, X_transpose_y)\n",
    "    \n",
    "    # Predict missing values\n",
    "    for i in range(len(X)):\n",
    "        if np.isnan(X[i][target_index]):\n",
    "            X[i][target_index] = np.dot(w, [X[i][j] for j in feature_indices])\n",
    "    return X"
   ]
  },
  {
   "cell_type": "markdown",
   "metadata": {},
   "source": [
    "5. Iterative Imputation"
   ]
  },
  {
   "cell_type": "code",
   "execution_count": 6,
   "metadata": {},
   "outputs": [],
   "source": [
    "def iterative_imputation(X, iterations=10):\n",
    "    X = initialize_missing_values(X)\n",
    "    feature_indices = [i for i in range(len(X[0]))]\n",
    "    \n",
    "    for _ in range(iterations):\n",
    "        for i in range(len(X[0])):\n",
    "            target_index = i\n",
    "            other_indices = [j for j in feature_indices if j != target_index]\n",
    "            X = linear_regression_predict(X, target_index, other_indices)\n",
    "    \n",
    "    return X\n",
    "\n",
    "\n",
    "X_imputed = iterative_imputation(X)"
   ]
  },
  {
   "cell_type": "markdown",
   "metadata": {},
   "source": [
    "6. Print Imputed Dataset"
   ]
  },
  {
   "cell_type": "code",
   "execution_count": 7,
   "metadata": {},
   "outputs": [
    {
     "name": "stdout",
     "output_type": "stream",
     "text": [
      "[70.1, 154.9, 29.215, 2]\n",
      "[64.9, 157.8, 26.313068674, 2]\n",
      "[69.72, 164.7, 24.73633318, 1]\n",
      "[67.5, 169.9, 23.38390377, 1]\n",
      "[68.4, 154.9, 28.5071149, 1.6]\n",
      "[77.7, 173.8, 25.72299152, 2]\n"
     ]
    }
   ],
   "source": [
    "for row in X_imputed:\n",
    "    print(row)\n",
    "\n",
    "X = np.array(X)"
   ]
  },
  {
   "cell_type": "markdown",
   "metadata": {},
   "source": [
    "7. Create and Iterative Imputer Object and perfrom Iterative Imputation"
   ]
  },
  {
   "cell_type": "code",
   "execution_count": 9,
   "metadata": {},
   "outputs": [
    {
     "name": "stdout",
     "output_type": "stream",
     "text": [
      "imputed [[ 70.1        154.9         29.215        2.        ]\n",
      " [ 64.9        157.8         26.31306867   2.        ]\n",
      " [ 69.72       164.7         24.73633318   1.        ]\n",
      " [ 67.5        169.9         23.38390377   1.        ]\n",
      " [ 68.4        154.9         28.5071149    1.6       ]\n",
      " [ 77.7        173.8         25.72299152   2.        ]]\n"
     ]
    }
   ],
   "source": [
    "imputer = IterativeImputer(max_iter=10, random_state=0)\n",
    "X_imputed = imputer.fit_transform(X)\n",
    "print(\"imputed\",X_imputed)"
   ]
  }
 ],
 "metadata": {
  "kernelspec": {
   "display_name": "Python 3",
   "language": "python",
   "name": "python3"
  },
  "language_info": {
   "codemirror_mode": {
    "name": "ipython",
    "version": 3
   },
   "file_extension": ".py",
   "mimetype": "text/x-python",
   "name": "python",
   "nbconvert_exporter": "python",
   "pygments_lexer": "ipython3",
   "version": "3.12.3"
  }
 },
 "nbformat": 4,
 "nbformat_minor": 2
}
