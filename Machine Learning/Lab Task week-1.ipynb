{
 "cells": [
  {
   "cell_type": "markdown",
   "metadata": {},
   "source": [
    "# Task-1\n",
    "Consider the following dataset and find the outliers using boxplot method. This task must be done manually without using inbuilt method.\n",
    "\n",
    "```python\n",
    "[12, 10, 11, 14, 76, 103, 13,15,12,16,17,11,16,25, 110, 20, 23, 27,19, 18,10,13,78, 15,14,20,28,32,87, 23,25,19,22,28,17,27,80,15, 18, 22, 20,25,82,27,21,12,15,18,90,108,28,150]\n",
    "```\n",
    "\n",
    "Now, verify the outcome by using the inbuilt function for boxplot method.\n",
    "\n",
    "# Task-2\n",
    "Download the following iris dataset and find out the mean, variance, and standard deviation of each of three attributes.\n",
    "\n",
    "[Iris Species (kaggle.com)](https://www.kaggle.com/datasets/uciml/iris)\n",
    "\n",
    "Also check for each attribute whether they follow the normal distribution or not by visualizing their data distribution.\n"
   ]
  },
  {
   "cell_type": "markdown",
   "metadata": {},
   "source": [
    "# Solution for Task-1\n",
    "\n",
    "### Step-1\n",
    "- Define all the functions"
   ]
  },
  {
   "cell_type": "code",
   "execution_count": 1,
   "metadata": {},
   "outputs": [],
   "source": [
    "def median(data):\n",
    "    data.sort()\n",
    "    if len(data) % 2 == 0:\n",
    "        return (data[len(data)//2] + data[len(data)//2 - 1]) / 2\n",
    "    else:\n",
    "        return data[len(data)//2]\n",
    "    \n",
    "\n",
    "def Q1(data):\n",
    "    if len(data) % 2 == 0:\n",
    "        return median(data[:len(data)//2])\n",
    "    else:\n",
    "        return median(data[:len(data)//2])\n",
    "\n",
    "\n",
    "def Q3(data):\n",
    "    if len(data) % 2 == 0:\n",
    "        return median(data[len(data)//2:])\n",
    "    else:\n",
    "        return median(data[len(data)//2+1:])\n",
    "\n",
    "\n",
    "def IQR(data):\n",
    "    return Q3(data) - Q1(data)\n",
    "\n",
    "\n",
    "def LL(data):\n",
    "    return Q1(data) - 1.5 * IQR(data)\n",
    "\n",
    "\n",
    "def UL(data):\n",
    "    return Q3(data) + 1.5 * IQR(data)\n",
    "\n",
    "\n",
    "def Outliers(data):\n",
    "    return [x for x in data if x < LL(data) or x > UL(data)]"
   ]
  },
  {
   "cell_type": "markdown",
   "metadata": {},
   "source": [
    "### Step-2\n",
    "- Sort the data and get the values"
   ]
  },
  {
   "cell_type": "code",
   "execution_count": null,
   "metadata": {},
   "outputs": [],
   "source": [
    "data = [12, 10, 11, 14, 76, 103, 13,15,12,16,17,11,16,25, 110, 20, 23, 27,19, 18,10,13,78, 15,14,20,28,32,87, 23,25,19,22,28,17,27,80,15, 18, 22, 20,25,82,27,21,12,15,18,90,108,28,150]\n",
    "data.sort()\n",
    "    \n",
    "print(f\"Min: {min(data)}\")\n",
    "print(f\"Max: {max(data)}\")\n",
    "print(f\"Median: {median(data)}\")\n",
    "print(f\"Q1: {Q1(data)}\")\n",
    "print(f\"Q3: {Q3(data)}\")\n",
    "print(f\"IQR: {IQR(data)}\")\n",
    "print(f\"LL: {LL(data)}\")\n",
    "print(f\"UL: {UL(data)}\")\n",
    "print(f\"Outliers: {Outliers(data)}\")"
   ]
  },
  {
   "cell_type": "markdown",
   "metadata": {},
   "source": [
    "### Setep-3\n",
    "\n",
    "- Verify with the inbuilt boxplot function"
   ]
  },
  {
   "cell_type": "code",
   "execution_count": null,
   "metadata": {},
   "outputs": [],
   "source": [
    "import numpy as np\n",
    "import matplotlib.pyplot as plt\n",
    "\n",
    "\n",
    "data = np.array([12, 10, 11, 14, 76, 103, 13,15,12,16,17,11,16,25, 110, 20, 23, 27,19, 18,10,13,78, 15,14,20,28,32,87, 23,25,19,22,28,17,27,80,15, 18, 22, 20,25,82,27,21,12,15,18,90,108,28,150])\n",
    "\n",
    "plt.boxplot(data)\n",
    "plt.show()\n",
    "\n",
    "\n",
    "boxplot_stats = plt.boxplot(data, patch_artist=True)\n",
    "outliers = boxplot_stats['fliers'][0].get_ydata()\n",
    "\n",
    "print(f\"Outliers: {outliers}\")\n"
   ]
  },
  {
   "cell_type": "markdown",
   "metadata": {},
   "source": [
    "# Solution for Task-2\n",
    "\n",
    "- Get the data from [Iris Species (kaggle.com)](https://www.kaggle.com/datasets/uciml/iris)\n",
    "\n",
    "**Note:** In VSCode, you can uise extension `CSV to Table` for easier maping of `.csv` files.\n",
    "\n"
   ]
  }
 ],
 "metadata": {
  "kernelspec": {
   "display_name": "Python 3",
   "language": "python",
   "name": "python3"
  },
  "language_info": {
   "codemirror_mode": {
    "name": "ipython",
    "version": 3
   },
   "file_extension": ".py",
   "mimetype": "text/x-python",
   "name": "python",
   "nbconvert_exporter": "python",
   "pygments_lexer": "ipython3",
   "version": "3.12.4"
  }
 },
 "nbformat": 4,
 "nbformat_minor": 2
}
