{
 "cells": [
  {
   "cell_type": "markdown",
   "metadata": {},
   "source": [
    "# Usability Matrix for Spotify\n",
    "\n",
    "| Usability Attribute | Description | Rating Scale / Percentage \n",
    "| :-- | :-- | :--: |\n",
    "| Ease of Use | How easy is it to navigate and find music, playlists, and podcasts? |\t4.5/5 \n",
    "| Efficiency|\tHow quickly can users find and play their desired content?\t|90% tasks completed on time\n",
    "Learnability|\tHow easy is it for new users to learn how to use the app, including music discovery and playlist creation?|\t5/5\n",
    "Satisfaction\t|How satisfied are users with the overall music-listening and discovery experience?|\t4.8/5\n",
    "Error Handling\t|How well does the app handle connection or playback errors? Can users recover easily?|\t4/5\n",
    "Accessibility|\tHow accessible is the app for users with disabilities, including features like voice commands or screen reader support?\t|80% accessibility features implemented\n",
    "Aesthetics|\tHow visually appealing is Spotify's dark theme interface and album artwork presentation?\t|5/5\n",
    "Responsiveness|\tHow responsive is the app to user inputs, such as skipping songs or searching for music?\t|95% within expected latency"
   ]
  }
 ],
 "metadata": {
  "language_info": {
   "name": "python"
  }
 },
 "nbformat": 4,
 "nbformat_minor": 2
}
